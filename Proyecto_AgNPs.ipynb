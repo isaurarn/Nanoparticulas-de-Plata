{
 "cells": [
  {
   "cell_type": "markdown",
   "metadata": {},
   "source": [
    "<img style=\"float: center\" src=\"https://arrupesj.files.wordpress.com/2015/06/4.jpg\" width=\"350px\" height=\"125px\" />\n",
    "\n",
    "\n",
    "# Proyecto\n",
    "### Optimización de nanopartículas de plata (AgNPs).\n",
    "#### Profesor: Carlos Arellano Muro\n",
    "#### Equipo: \n",
    "#### Diamante del Cielo Gutiérrez Nandayapa nt709910\n",
    "#### Isaura Rodríguez Navarro nt713994\n",
    "##### Fecha: 01 de octubre de 2020"
   ]
  },
  {
   "cell_type": "markdown",
   "metadata": {},
   "source": [
    "### Objetivos\n",
    "> #### 1.1 Objetivos generales.\n",
    ">  - Usar las herramientas de optimización vistas en el módulo 1 del curso de simulación matemática. \n",
    "\n",
    ">  - Resolver el problema planteado de optimización.\n",
    "> #### 1.1 Objetivos específicos.#\n",
    ">  - Crear un código ejecutable que resuelve la optimización de síntesis de nanopartículas de plata\n",
    "\n",
    ">  - Hacer uso de las librerías numpy, sympy y scipy.optimize\n",
    ">  - Interpretar la solución de la optimización."
   ]
  },
  {
   "attachments": {},
   "cell_type": "markdown",
   "metadata": {},
   "source": [
    "Se busca generar nanopartículas de Plata con forma de esperas.\n",
    "\n",
    "Para llevarse a cabo la reacción, se necesitan 4 reactivos:\n",
    "\n",
    "* Nitrato de Plata ($AgNO_3$)\n",
    "* Glucosa ($C_6H_12O_6$) \n",
    "* Polivinilpirrolida ($PVP$)\n",
    "* Hidróxido de sodio ($NaOH$)\n",
    "\n",
    "\n",
    "* $x_A = Nitrato de Plata$\n",
    "* $x_N = Hidroxido de sodio$\n",
    "* $x_P = Polivinilpirrolida$\n",
    "* $x_G = Glucosa$\n",
    "* $x_V = Volumen total$\n",
    "* $x_T = Temperatura$\n",
    "* $x_H = pH$\n",
    "\n",
    "Las condiciones ideales para que se lleve a cabo la reacción de reducción son las siguientes\n",
    "\n",
    "Una proporción molar 1:2 entre el NaOH y el $AgNO_3$\n",
    "\n",
    "Una proporcion molar de 1:2 entre NaOH y la Glucosa\n",
    "\n",
    "La solución B tener una temperatura de 70°C, \n",
    "agitación constante, \n",
    "temperatura constante, \n",
    "pH: menor que 7.\n",
    "\n",
    "La primer síntesis se realizo con las siguientes cantidades de reactivos y se obtuvieron 20 nm\n",
    "\n",
    "Solución A\n",
    "* $x_A = 3.4 g$ \n",
    "\n",
    "en un volumen de 10 ml de agua destilada\n",
    "\n",
    "Solución B\n",
    "* $x_N = 0.4 g$\n",
    "* $x_P = 7.2 g$\n",
    "* $x_G = 3.0 g$\n",
    "\n",
    "en un volumen de 30 ml de agua destilada a una temperatura de 70°C y un pH básico de 3\n",
    "\n",
    "* $x_1 = $x_T = 70 °C$\n",
    "* $x_2 = $x_V = 40 ml$\n",
    "* $x_3 = $x_H =  3$\n",
    "\n",
    "La segunda síntesis con el mismo método se realizo con las siguientes cantidades de reactivos y se obtuvieron en promedio 25 nm\n",
    "\n",
    "Solución A\n",
    "* $x_A = 1.7 g$ \n",
    "\n",
    "en un volumen de 10 ml de agua destilada\n",
    "\n",
    "Solución B\n",
    "* $x_N = 0.2 g$\n",
    "* $x_P = 3.6 g$\n",
    "* $x_G = 1.5 g$\n",
    "\n",
    "en un volumen de 30 ml de agua destilada a una temperatura alrededor de 75°C y un pH básico de 3.5\n",
    "\n",
    "* $x_4 = $x_T = 75°C$\n",
    "* $x_5 = $x_V = 40 ml$\n",
    "* $x_6 = $x_H = 3.5 $\n",
    "\n",
    "Función a optimizar para obtener el tamaño más preciso para las nanopartículas de plata:\n",
    "\n",
    "\n",
    "\n",
    "$x_1 + x_2 + x_3 + x_4 + x_5 + x_6 + x_7 + x_8$\n",
    "\n",
    "Teniendo las siguientes restricciones:\n",
    "\n",
    "$x_1 + x_4 \\geq 70°C$\n",
    "\n",
    "$x_2 + x_5 \\leq 40 ml$\n",
    "\n",
    "$x_3 + x_6 \\leq 7 pH $"
   ]
  },
  {
   "cell_type": "code",
   "execution_count": 1,
   "metadata": {},
   "outputs": [],
   "source": [
    "import numpy as np\n",
    "import sympy as sym\n",
    "import scipy.optimize as opt\n",
    "from scipy.optimize import linprog"
   ]
  },
  {
   "cell_type": "code",
   "execution_count": 2,
   "metadata": {},
   "outputs": [],
   "source": [
    "c=np.array([70,40,3,75,40,3.5])\n",
    "A=np.array([[1,0,0,1,0,0],[0,1,0,0,1,0],[0,0,1,0,0,1]])\n",
    "b=np.array([-70,40,7])"
   ]
  },
  {
   "cell_type": "code",
   "execution_count": 3,
   "metadata": {},
   "outputs": [
    {
     "data": {
      "text/plain": [
       "     con: array([], dtype=float64)\n",
       "     fun: 1621.0\n",
       " message: \"Phase 1 of the simplex method failed to find a feasible solution. The pseudo-objective function evaluates to 7.0e+01 which exceeds the required tolerance of 1e-09 for a solution to be considered 'close enough' to zero to be a basic solution. Consider increasing the tolerance to be greater than 7.0e+01. If this tolerance is unacceptably  large the problem may be infeasible.\"\n",
       "     nit: 2\n",
       "   slack: array([-70.,   0.,   0.])\n",
       "  status: 2\n",
       " success: False\n",
       "       x: array([ 0., 40.,  7.,  0.,  0.,  0.])"
      ]
     },
     "execution_count": 3,
     "metadata": {},
     "output_type": "execute_result"
    }
   ],
   "source": [
    "sol=opt.linprog(c,A,b, method='simplex')\n",
    "sol"
   ]
  },
  {
   "cell_type": "code",
   "execution_count": 4,
   "metadata": {},
   "outputs": [
    {
     "ename": "ModuleNotFoundError",
     "evalue": "No module named 'scypy'",
     "output_type": "error",
     "traceback": [
      "\u001b[1;31m---------------------------------------------------------------------------\u001b[0m",
      "\u001b[1;31mModuleNotFoundError\u001b[0m                       Traceback (most recent call last)",
      "\u001b[1;32m<ipython-input-4-1dcb5ad04c3a>\u001b[0m in \u001b[0;36m<module>\u001b[1;34m\u001b[0m\n\u001b[0;32m      1\u001b[0m \u001b[1;32mimport\u001b[0m \u001b[0mnumpy\u001b[0m \u001b[1;32mas\u001b[0m \u001b[0mnp\u001b[0m\u001b[1;33m\u001b[0m\u001b[1;33m\u001b[0m\u001b[0m\n\u001b[0;32m      2\u001b[0m \u001b[1;32mimport\u001b[0m \u001b[0msympy\u001b[0m \u001b[1;32mas\u001b[0m \u001b[0msym\u001b[0m\u001b[1;33m\u001b[0m\u001b[1;33m\u001b[0m\u001b[0m\n\u001b[1;32m----> 3\u001b[1;33m \u001b[1;32mimport\u001b[0m \u001b[0mscypy\u001b[0m\u001b[1;33m.\u001b[0m\u001b[0moptimize\u001b[0m \u001b[1;32mas\u001b[0m \u001b[0mopt\u001b[0m\u001b[1;33m\u001b[0m\u001b[1;33m\u001b[0m\u001b[0m\n\u001b[0m\u001b[0;32m      4\u001b[0m \u001b[1;32mfrom\u001b[0m \u001b[0mscypy\u001b[0m\u001b[1;33m.\u001b[0m\u001b[0moptimize\u001b[0m \u001b[1;32mimport\u001b[0m \u001b[0mlinprog\u001b[0m\u001b[1;33m\u001b[0m\u001b[1;33m\u001b[0m\u001b[0m\n\u001b[0;32m      5\u001b[0m \u001b[0mc\u001b[0m\u001b[1;33m=\u001b[0m\u001b[0mnp\u001b[0m\u001b[1;33m.\u001b[0m\u001b[0marray\u001b[0m\u001b[1;33m(\u001b[0m\u001b[1;33m[\u001b[0m\u001b[1;36m1\u001b[0m\u001b[1;33m,\u001b[0m\u001b[1;36m1\u001b[0m\u001b[1;33m,\u001b[0m\u001b[1;36m1\u001b[0m\u001b[1;33m,\u001b[0m \u001b[1;36m1\u001b[0m\u001b[1;33m,\u001b[0m \u001b[1;36m1\u001b[0m\u001b[1;33m,\u001b[0m \u001b[1;36m1\u001b[0m\u001b[1;33m,\u001b[0m\u001b[1;36m1\u001b[0m\u001b[1;33m,\u001b[0m\u001b[1;36m1\u001b[0m\u001b[1;33m]\u001b[0m\u001b[1;33m)\u001b[0m\u001b[1;33m\u001b[0m\u001b[1;33m\u001b[0m\u001b[0m\n",
      "\u001b[1;31mModuleNotFoundError\u001b[0m: No module named 'scypy'"
     ]
    }
   ],
   "source": [
    "import numpy as np\n",
    "import sympy as sym\n",
    "import scypy.optimize as opt\n",
    "from scypy.optimize import linprog\n",
    "c=np.array([1,1,1, 1, 1, 1,1,1])\n",
    "A=np.array([[-1,-2,-0,2,0,0],[3.4,0.4,7.2,6,70,-40,-3],[1.7,0.2,3.6,75,40,3.5]])\n",
    "b=np.array([-1,-20,25])\n",
    "opt.linprog(c,A_eq=A,b_eq=b)\n",
    "sol=opt.linprog(c,A,b,method='simplex')\n",
    "sol"
   ]
  },
  {
   "cell_type": "markdown",
   "metadata": {},
   "source": [
    "### Interpretación de resultados\n",
    "\n",
    "Debido a que en ambas experimentaciones se manejan las siguientes relaciones:\n",
    "\n",
    "Una proporción molar 1:2 entre el NaOH y el $AgNO_3$\n",
    "\n",
    "Una proporcion molar de 1:2 entre NaOH y la Glucosa\n",
    "\n",
    "Las cantidades son proporcionales entre las dos síntesis.\n",
    "\n",
    "\n",
    "Al correr el programa y realizar la minimización para obtener el menor tamaño de partícula obtenemos que:\n",
    "\n",
    "* 1.- El volumen total máximo que se puede manejar en este método de síntesis es de 40 ml \n",
    "* 2.- El pH máximo para que se no se vea afectado el crecimeinto de las nanopartículas es de 7\n",
    "* 3.- La temperatura es una variable díficil de optimizar por lo parámetros.\n",
    "\n",
    "Asimismo al aplicarlo en el laboratorio tanto el volumen como el pH podemos controlarlo sin embargo la temperatura es un paramétro que depende de la placa de calentamiento, el medio y la solución. Durante la experimentación la temperatura siempre está cambiando, sólo se puede mantener en un rango pero nunca fijarse.#\n",
    "\n"
   ]
  },
  {
   "cell_type": "markdown",
   "metadata": {},
   "source": [
    "### Conclusión"
   ]
  },
  {
   "cell_type": "markdown",
   "metadata": {},
   "source": [
    "Se expuso un problema a optimizar de síntesis de nanopartículas de plata.​\n",
    "\n",
    "Se abordó el problema estableciendo una función a optimizar y sus restricciones.​\n",
    "\n",
    "Se emplearon los conocimientos y experiencias respecto al curso de simulación matemática para la resolución del problema planteado.​\n",
    "\n",
    "Se interpretaron los resultados obtenidos y se concluye que la temperatura es una condición variable; el volumen debe ser de 40 ml; pH de 7."
   ]
  }
 ],
 "metadata": {
  "kernelspec": {
   "display_name": "Python 3",
   "language": "python",
   "name": "python3"
  },
  "language_info": {
   "codemirror_mode": {
    "name": "ipython",
    "version": 3
   },
   "file_extension": ".py",
   "mimetype": "text/x-python",
   "name": "python",
   "nbconvert_exporter": "python",
   "pygments_lexer": "ipython3",
   "version": "3.8.3"
  }
 },
 "nbformat": 4,
 "nbformat_minor": 4
}
